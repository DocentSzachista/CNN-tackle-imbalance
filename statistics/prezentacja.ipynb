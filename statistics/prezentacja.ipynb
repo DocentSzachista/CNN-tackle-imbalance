{
 "cells": [
  {
   "cell_type": "code",
   "execution_count": null,
   "metadata": {},
   "outputs": [],
   "source": [
    "[]()"
   ]
  },
  {
   "cell_type": "markdown",
   "metadata": {},
   "source": [
    "SCENARIO_1 = [0.1, 1, 1, 1, 1, 1, 1, 1, 1, 1]\n",
    "SCENARIO_2 = [0.1, 0.2, 0.3, 0.4, 0.5, 0.6, 0.7, 0.8, 0.9, 0.1]\n",
    "SCENARIO_3 = [0.1, 0.01, 0.3, 0.4, 0.5, 0.6, 0.1, 0.8, 0.9, 1]"
   ]
  },
  {
   "cell_type": "markdown",
   "metadata": {},
   "source": [
    "Resnet | Vgg\n",
    ":---:|:---:\n",
    "Strategia one_class: | samolot: 0.1,  \n",
    "[![](./resnet/one_class-statistics.png)](./resnet/one_class-statistics.png) | [![](./vgg/one_class-statistics.png)](./vgg/one_class-statistics.png)\n",
    "Strategia many_classes: | samolot, ciężarówka niezbalansowany do 0.1, reszta klas zmniejszana o kolejno o krok 0.1 \n",
    " [![](./resnet/many_classes-statistics.png)](./resnet/many_classes-statistics.png) | [![](./vgg/many_classes-statistics.png)](./vgg/many_classes-statistics.png)\n",
    "Strategia three_class | Samolot niezbalansowany o 0.1, samochód o 0.01, żaba o 0.1\n",
    " [![](./resnet/three_class-statistics.png)](./resnet/three_class-statistics.png)| [![](./vgg/three_class-statistics.png)](./vgg/three_class-statistics.png)\n"
   ]
  },
  {
   "cell_type": "markdown",
   "metadata": {},
   "source": []
  }
 ],
 "metadata": {
  "language_info": {
   "name": "python"
  }
 },
 "nbformat": 4,
 "nbformat_minor": 2
}
